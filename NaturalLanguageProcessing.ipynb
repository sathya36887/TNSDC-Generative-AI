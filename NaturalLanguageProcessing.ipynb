{
  "nbformat": 4,
  "nbformat_minor": 0,
  "metadata": {
    "colab": {
      "provenance": [],
      "toc_visible": true
    },
    "kernelspec": {
      "name": "python3",
      "display_name": "Python 3"
    },
    "language_info": {
      "name": "python"
    }
  },
  "cells": [
    {
      "cell_type": "code",
      "execution_count": 2,
      "metadata": {
        "colab": {
          "base_uri": "https://localhost:8080/"
        },
        "id": "k8aTaW5UnbDC",
        "outputId": "cf917740-2b59-4674-b1e9-16a5ee05626d"
      },
      "outputs": [
        {
          "output_type": "stream",
          "name": "stdout",
          "text": [
            "Downloading data from https://storage.googleapis.com/tensorflow/tf-keras-datasets/imdb.npz\n",
            "17464789/17464789 [==============================] - 0s 0us/step\n",
            "Epoch 1/5\n",
            "782/782 [==============================] - 601s 761ms/step - loss: 0.4530 - accuracy: 0.7868 - val_loss: 0.3798 - val_accuracy: 0.8423\n",
            "Epoch 2/5\n",
            "782/782 [==============================] - 591s 756ms/step - loss: 0.2735 - accuracy: 0.8898 - val_loss: 0.3433 - val_accuracy: 0.8580\n",
            "Epoch 3/5\n",
            "782/782 [==============================] - 572s 731ms/step - loss: 0.2066 - accuracy: 0.9205 - val_loss: 0.3875 - val_accuracy: 0.8433\n",
            "Epoch 4/5\n",
            "782/782 [==============================] - 577s 738ms/step - loss: 0.1547 - accuracy: 0.9414 - val_loss: 0.3840 - val_accuracy: 0.8526\n",
            "Epoch 5/5\n",
            "782/782 [==============================] - 594s 760ms/step - loss: 0.1177 - accuracy: 0.9591 - val_loss: 0.4270 - val_accuracy: 0.8636\n",
            "782/782 [==============================] - 75s 95ms/step - loss: 0.4270 - accuracy: 0.8636\n",
            "Test Accuracy: 0.8636400103569031\n",
            "Example Text: This movie was fantastic! I loved every moment of it.\n",
            "Downloading data from https://storage.googleapis.com/tensorflow/tf-keras-datasets/imdb_word_index.json\n",
            "1641221/1641221 [==============================] - 0s 0us/step\n",
            "1/1 [==============================] - 0s 419ms/step\n",
            "Predicted Sentiment: positive\n"
          ]
        }
      ],
      "source": [
        "import numpy as np\n",
        "from tensorflow.keras.datasets import imdb\n",
        "from tensorflow.keras.models import Sequential\n",
        "from tensorflow.keras.layers import Embedding, LSTM, Dense, Dropout\n",
        "from tensorflow.keras.preprocessing.sequence import pad_sequences\n",
        "\n",
        "# Load the IMDB dataset\n",
        "max_words = 10000\n",
        "maxlen = 200\n",
        "(X_train, y_train), (X_test, y_test) = imdb.load_data(num_words=max_words)\n",
        "\n",
        "# Pad sequences to ensure uniform length\n",
        "X_train = pad_sequences(X_train, maxlen=maxlen)\n",
        "X_test = pad_sequences(X_test, maxlen=maxlen)\n",
        "\n",
        "# Build the LSTM model\n",
        "model = Sequential()\n",
        "model.add(Embedding(max_words, 128, input_length=maxlen))\n",
        "model.add(LSTM(128, dropout=0.2, recurrent_dropout=0.2))\n",
        "model.add(Dense(1, activation='sigmoid'))\n",
        "\n",
        "# Compile the model\n",
        "model.compile(loss='binary_crossentropy', optimizer='adam', metrics=['accuracy'])\n",
        "\n",
        "# Train the model\n",
        "batch_size = 32\n",
        "epochs = 5\n",
        "model.fit(X_train, y_train, batch_size=batch_size, epochs=epochs, validation_data=(X_test, y_test))\n",
        "\n",
        "# Evaluate the model on test data\n",
        "loss, accuracy = model.evaluate(X_test, y_test)\n",
        "print(\"Test Accuracy:\", accuracy)\n",
        "\n",
        "# Example prediction\n",
        "def predict_sentiment(text):\n",
        "    # Tokenize and pad the input text\n",
        "    sequence = imdb.get_word_index().values()\n",
        "    word_index = dict(zip(sequence, range(len(sequence))))\n",
        "    tokens = [word_index.get(word.lower(), 0) for word in text.split()]\n",
        "    padded_tokens = pad_sequences([tokens], maxlen=maxlen)\n",
        "\n",
        "    # Make prediction\n",
        "    prediction = model.predict(padded_tokens)[0][0]\n",
        "    sentiment = \"positive\" if prediction >= 0.5 else \"negative\"\n",
        "    return sentiment\n",
        "\n",
        "# Example usage\n",
        "example_text = \"This movie was fantastic! I loved every moment of it.\"\n",
        "print(\"Example Text:\", example_text)\n",
        "print(\"Predicted Sentiment:\", predict_sentiment(example_text))\n"
      ]
    }
  ]
}